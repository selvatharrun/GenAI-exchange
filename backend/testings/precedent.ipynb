{
 "cells": [
  {
   "cell_type": "code",
   "execution_count": 1,
   "id": "aed8b22c",
   "metadata": {},
   "outputs": [
    {
     "name": "stdout",
     "output_type": "stream",
     "text": [
      "Requirement already satisfied: google-cloud-aiplatform in c:\\users\\user\\onedrive\\documents\\genai-exchange\\backend\\venv\\lib\\site-packages (1.112.0)\n",
      "Collecting google-cloud-aiplatform\n",
      "  Downloading google_cloud_aiplatform-1.115.0-py2.py3-none-any.whl.metadata (41 kB)\n",
      "Requirement already satisfied: google-api-core!=2.0.*,!=2.1.*,!=2.2.*,!=2.3.*,!=2.4.*,!=2.5.*,!=2.6.*,!=2.7.*,<3.0.0,>=1.34.1 in c:\\users\\user\\onedrive\\documents\\genai-exchange\\backend\\venv\\lib\\site-packages (from google-api-core[grpc]!=2.0.*,!=2.1.*,!=2.2.*,!=2.3.*,!=2.4.*,!=2.5.*,!=2.6.*,!=2.7.*,<3.0.0,>=1.34.1->google-cloud-aiplatform) (2.25.1)\n",
      "Requirement already satisfied: google-auth<3.0.0,>=2.14.1 in c:\\users\\user\\onedrive\\documents\\genai-exchange\\backend\\venv\\lib\\site-packages (from google-cloud-aiplatform) (2.40.3)\n",
      "Requirement already satisfied: proto-plus<2.0.0,>=1.22.3 in c:\\users\\user\\onedrive\\documents\\genai-exchange\\backend\\venv\\lib\\site-packages (from google-cloud-aiplatform) (1.26.1)\n",
      "Requirement already satisfied: protobuf!=4.21.0,!=4.21.1,!=4.21.2,!=4.21.3,!=4.21.4,!=4.21.5,<7.0.0,>=3.20.2 in c:\\users\\user\\onedrive\\documents\\genai-exchange\\backend\\venv\\lib\\site-packages (from google-cloud-aiplatform) (5.29.5)\n",
      "Requirement already satisfied: packaging>=14.3 in c:\\users\\user\\onedrive\\documents\\genai-exchange\\backend\\venv\\lib\\site-packages (from google-cloud-aiplatform) (25.0)\n",
      "Requirement already satisfied: google-cloud-storage<3.0.0,>=1.32.0 in c:\\users\\user\\onedrive\\documents\\genai-exchange\\backend\\venv\\lib\\site-packages (from google-cloud-aiplatform) (2.19.0)\n",
      "Requirement already satisfied: google-cloud-bigquery!=3.20.0,<4.0.0,>=1.15.0 in c:\\users\\user\\onedrive\\documents\\genai-exchange\\backend\\venv\\lib\\site-packages (from google-cloud-aiplatform) (3.36.0)\n",
      "Requirement already satisfied: google-cloud-resource-manager<3.0.0,>=1.3.3 in c:\\users\\user\\onedrive\\documents\\genai-exchange\\backend\\venv\\lib\\site-packages (from google-cloud-aiplatform) (1.14.2)\n",
      "Requirement already satisfied: shapely<3.0.0 in c:\\users\\user\\onedrive\\documents\\genai-exchange\\backend\\venv\\lib\\site-packages (from google-cloud-aiplatform) (2.1.1)\n",
      "Requirement already satisfied: google-genai<2.0.0,>=1.0.0 in c:\\users\\user\\onedrive\\documents\\genai-exchange\\backend\\venv\\lib\\site-packages (from google-cloud-aiplatform) (1.32.0)\n",
      "Requirement already satisfied: pydantic<3 in c:\\users\\user\\onedrive\\documents\\genai-exchange\\backend\\venv\\lib\\site-packages (from google-cloud-aiplatform) (2.11.7)\n",
      "Requirement already satisfied: typing_extensions in c:\\users\\user\\onedrive\\documents\\genai-exchange\\backend\\venv\\lib\\site-packages (from google-cloud-aiplatform) (4.15.0)\n",
      "Requirement already satisfied: docstring_parser<1 in c:\\users\\user\\onedrive\\documents\\genai-exchange\\backend\\venv\\lib\\site-packages (from google-cloud-aiplatform) (0.17.0)\n",
      "Requirement already satisfied: googleapis-common-protos<2.0.0,>=1.56.2 in c:\\users\\user\\onedrive\\documents\\genai-exchange\\backend\\venv\\lib\\site-packages (from google-api-core!=2.0.*,!=2.1.*,!=2.2.*,!=2.3.*,!=2.4.*,!=2.5.*,!=2.6.*,!=2.7.*,<3.0.0,>=1.34.1->google-api-core[grpc]!=2.0.*,!=2.1.*,!=2.2.*,!=2.3.*,!=2.4.*,!=2.5.*,!=2.6.*,!=2.7.*,<3.0.0,>=1.34.1->google-cloud-aiplatform) (1.70.0)\n",
      "Requirement already satisfied: requests<3.0.0,>=2.18.0 in c:\\users\\user\\onedrive\\documents\\genai-exchange\\backend\\venv\\lib\\site-packages (from google-api-core!=2.0.*,!=2.1.*,!=2.2.*,!=2.3.*,!=2.4.*,!=2.5.*,!=2.6.*,!=2.7.*,<3.0.0,>=1.34.1->google-api-core[grpc]!=2.0.*,!=2.1.*,!=2.2.*,!=2.3.*,!=2.4.*,!=2.5.*,!=2.6.*,!=2.7.*,<3.0.0,>=1.34.1->google-cloud-aiplatform) (2.32.5)\n",
      "Requirement already satisfied: grpcio<2.0.0,>=1.33.2 in c:\\users\\user\\onedrive\\documents\\genai-exchange\\backend\\venv\\lib\\site-packages (from google-api-core[grpc]!=2.0.*,!=2.1.*,!=2.2.*,!=2.3.*,!=2.4.*,!=2.5.*,!=2.6.*,!=2.7.*,<3.0.0,>=1.34.1->google-cloud-aiplatform) (1.74.0)\n",
      "Requirement already satisfied: grpcio-status<2.0.0,>=1.33.2 in c:\\users\\user\\onedrive\\documents\\genai-exchange\\backend\\venv\\lib\\site-packages (from google-api-core[grpc]!=2.0.*,!=2.1.*,!=2.2.*,!=2.3.*,!=2.4.*,!=2.5.*,!=2.6.*,!=2.7.*,<3.0.0,>=1.34.1->google-cloud-aiplatform) (1.71.2)\n",
      "Requirement already satisfied: cachetools<6.0,>=2.0.0 in c:\\users\\user\\onedrive\\documents\\genai-exchange\\backend\\venv\\lib\\site-packages (from google-auth<3.0.0,>=2.14.1->google-cloud-aiplatform) (5.5.2)\n",
      "Requirement already satisfied: pyasn1-modules>=0.2.1 in c:\\users\\user\\onedrive\\documents\\genai-exchange\\backend\\venv\\lib\\site-packages (from google-auth<3.0.0,>=2.14.1->google-cloud-aiplatform) (0.4.2)\n",
      "Requirement already satisfied: rsa<5,>=3.1.4 in c:\\users\\user\\onedrive\\documents\\genai-exchange\\backend\\venv\\lib\\site-packages (from google-auth<3.0.0,>=2.14.1->google-cloud-aiplatform) (4.9.1)\n",
      "Requirement already satisfied: google-cloud-core<3.0.0,>=2.4.1 in c:\\users\\user\\onedrive\\documents\\genai-exchange\\backend\\venv\\lib\\site-packages (from google-cloud-bigquery!=3.20.0,<4.0.0,>=1.15.0->google-cloud-aiplatform) (2.4.3)\n",
      "Requirement already satisfied: google-resumable-media<3.0.0,>=2.0.0 in c:\\users\\user\\onedrive\\documents\\genai-exchange\\backend\\venv\\lib\\site-packages (from google-cloud-bigquery!=3.20.0,<4.0.0,>=1.15.0->google-cloud-aiplatform) (2.7.2)\n",
      "Requirement already satisfied: python-dateutil<3.0.0,>=2.8.2 in c:\\users\\user\\onedrive\\documents\\genai-exchange\\backend\\venv\\lib\\site-packages (from google-cloud-bigquery!=3.20.0,<4.0.0,>=1.15.0->google-cloud-aiplatform) (2.9.0.post0)\n",
      "Requirement already satisfied: grpc-google-iam-v1<1.0.0,>=0.14.0 in c:\\users\\user\\onedrive\\documents\\genai-exchange\\backend\\venv\\lib\\site-packages (from google-cloud-resource-manager<3.0.0,>=1.3.3->google-cloud-aiplatform) (0.14.2)\n",
      "Requirement already satisfied: google-crc32c<2.0dev,>=1.0 in c:\\users\\user\\onedrive\\documents\\genai-exchange\\backend\\venv\\lib\\site-packages (from google-cloud-storage<3.0.0,>=1.32.0->google-cloud-aiplatform) (1.7.1)\n",
      "Requirement already satisfied: anyio<5.0.0,>=4.8.0 in c:\\users\\user\\onedrive\\documents\\genai-exchange\\backend\\venv\\lib\\site-packages (from google-genai<2.0.0,>=1.0.0->google-cloud-aiplatform) (4.10.0)\n",
      "Requirement already satisfied: httpx<1.0.0,>=0.28.1 in c:\\users\\user\\onedrive\\documents\\genai-exchange\\backend\\venv\\lib\\site-packages (from google-genai<2.0.0,>=1.0.0->google-cloud-aiplatform) (0.28.1)\n",
      "Requirement already satisfied: tenacity<9.2.0,>=8.2.3 in c:\\users\\user\\onedrive\\documents\\genai-exchange\\backend\\venv\\lib\\site-packages (from google-genai<2.0.0,>=1.0.0->google-cloud-aiplatform) (9.1.2)\n",
      "Requirement already satisfied: websockets<15.1.0,>=13.0.0 in c:\\users\\user\\onedrive\\documents\\genai-exchange\\backend\\venv\\lib\\site-packages (from google-genai<2.0.0,>=1.0.0->google-cloud-aiplatform) (15.0.1)\n",
      "Requirement already satisfied: idna>=2.8 in c:\\users\\user\\onedrive\\documents\\genai-exchange\\backend\\venv\\lib\\site-packages (from anyio<5.0.0,>=4.8.0->google-genai<2.0.0,>=1.0.0->google-cloud-aiplatform) (3.10)\n",
      "Requirement already satisfied: sniffio>=1.1 in c:\\users\\user\\onedrive\\documents\\genai-exchange\\backend\\venv\\lib\\site-packages (from anyio<5.0.0,>=4.8.0->google-genai<2.0.0,>=1.0.0->google-cloud-aiplatform) (1.3.1)\n",
      "Requirement already satisfied: certifi in c:\\users\\user\\onedrive\\documents\\genai-exchange\\backend\\venv\\lib\\site-packages (from httpx<1.0.0,>=0.28.1->google-genai<2.0.0,>=1.0.0->google-cloud-aiplatform) (2025.8.3)\n",
      "Requirement already satisfied: httpcore==1.* in c:\\users\\user\\onedrive\\documents\\genai-exchange\\backend\\venv\\lib\\site-packages (from httpx<1.0.0,>=0.28.1->google-genai<2.0.0,>=1.0.0->google-cloud-aiplatform) (1.0.9)\n",
      "Requirement already satisfied: h11>=0.16 in c:\\users\\user\\onedrive\\documents\\genai-exchange\\backend\\venv\\lib\\site-packages (from httpcore==1.*->httpx<1.0.0,>=0.28.1->google-genai<2.0.0,>=1.0.0->google-cloud-aiplatform) (0.16.0)\n",
      "Requirement already satisfied: annotated-types>=0.6.0 in c:\\users\\user\\onedrive\\documents\\genai-exchange\\backend\\venv\\lib\\site-packages (from pydantic<3->google-cloud-aiplatform) (0.7.0)\n",
      "Requirement already satisfied: pydantic-core==2.33.2 in c:\\users\\user\\onedrive\\documents\\genai-exchange\\backend\\venv\\lib\\site-packages (from pydantic<3->google-cloud-aiplatform) (2.33.2)\n",
      "Requirement already satisfied: typing-inspection>=0.4.0 in c:\\users\\user\\onedrive\\documents\\genai-exchange\\backend\\venv\\lib\\site-packages (from pydantic<3->google-cloud-aiplatform) (0.4.1)\n",
      "Requirement already satisfied: six>=1.5 in c:\\users\\user\\onedrive\\documents\\genai-exchange\\backend\\venv\\lib\\site-packages (from python-dateutil<3.0.0,>=2.8.2->google-cloud-bigquery!=3.20.0,<4.0.0,>=1.15.0->google-cloud-aiplatform) (1.17.0)\n",
      "Requirement already satisfied: charset_normalizer<4,>=2 in c:\\users\\user\\onedrive\\documents\\genai-exchange\\backend\\venv\\lib\\site-packages (from requests<3.0.0,>=2.18.0->google-api-core!=2.0.*,!=2.1.*,!=2.2.*,!=2.3.*,!=2.4.*,!=2.5.*,!=2.6.*,!=2.7.*,<3.0.0,>=1.34.1->google-api-core[grpc]!=2.0.*,!=2.1.*,!=2.2.*,!=2.3.*,!=2.4.*,!=2.5.*,!=2.6.*,!=2.7.*,<3.0.0,>=1.34.1->google-cloud-aiplatform) (3.4.3)\n",
      "Requirement already satisfied: urllib3<3,>=1.21.1 in c:\\users\\user\\onedrive\\documents\\genai-exchange\\backend\\venv\\lib\\site-packages (from requests<3.0.0,>=2.18.0->google-api-core!=2.0.*,!=2.1.*,!=2.2.*,!=2.3.*,!=2.4.*,!=2.5.*,!=2.6.*,!=2.7.*,<3.0.0,>=1.34.1->google-api-core[grpc]!=2.0.*,!=2.1.*,!=2.2.*,!=2.3.*,!=2.4.*,!=2.5.*,!=2.6.*,!=2.7.*,<3.0.0,>=1.34.1->google-cloud-aiplatform) (2.5.0)\n",
      "Requirement already satisfied: pyasn1>=0.1.3 in c:\\users\\user\\onedrive\\documents\\genai-exchange\\backend\\venv\\lib\\site-packages (from rsa<5,>=3.1.4->google-auth<3.0.0,>=2.14.1->google-cloud-aiplatform) (0.6.1)\n",
      "Requirement already satisfied: numpy>=1.21 in c:\\users\\user\\onedrive\\documents\\genai-exchange\\backend\\venv\\lib\\site-packages (from shapely<3.0.0->google-cloud-aiplatform) (2.2.6)\n",
      "Downloading google_cloud_aiplatform-1.115.0-py2.py3-none-any.whl (8.0 MB)\n",
      "   ---------------------------------------- 0.0/8.0 MB ? eta -:--:--\n",
      "   ----------- ---------------------------- 2.4/8.0 MB 14.3 MB/s eta 0:00:01\n",
      "   ------------------------------- -------- 6.3/8.0 MB 16.3 MB/s eta 0:00:01\n",
      "   ---------------------------------------- 8.0/8.0 MB 15.0 MB/s  0:00:00\n",
      "Installing collected packages: google-cloud-aiplatform\n",
      "  Attempting uninstall: google-cloud-aiplatform\n",
      "    Found existing installation: google-cloud-aiplatform 1.112.0\n",
      "    Uninstalling google-cloud-aiplatform-1.112.0:\n",
      "      Successfully uninstalled google-cloud-aiplatform-1.112.0\n",
      "Successfully installed google-cloud-aiplatform-1.115.0\n",
      "Requirement already satisfied: google-cloud-storage in c:\\users\\user\\onedrive\\documents\\genai-exchange\\backend\\venv\\lib\\site-packages (2.19.0)\n",
      "Requirement already satisfied: google-auth<3.0dev,>=2.26.1 in c:\\users\\user\\onedrive\\documents\\genai-exchange\\backend\\venv\\lib\\site-packages (from google-cloud-storage) (2.40.3)\n",
      "Requirement already satisfied: google-api-core<3.0.0dev,>=2.15.0 in c:\\users\\user\\onedrive\\documents\\genai-exchange\\backend\\venv\\lib\\site-packages (from google-cloud-storage) (2.25.1)\n",
      "Requirement already satisfied: google-cloud-core<3.0dev,>=2.3.0 in c:\\users\\user\\onedrive\\documents\\genai-exchange\\backend\\venv\\lib\\site-packages (from google-cloud-storage) (2.4.3)\n",
      "Requirement already satisfied: google-resumable-media>=2.7.2 in c:\\users\\user\\onedrive\\documents\\genai-exchange\\backend\\venv\\lib\\site-packages (from google-cloud-storage) (2.7.2)\n",
      "Requirement already satisfied: requests<3.0.0dev,>=2.18.0 in c:\\users\\user\\onedrive\\documents\\genai-exchange\\backend\\venv\\lib\\site-packages (from google-cloud-storage) (2.32.5)\n",
      "Requirement already satisfied: google-crc32c<2.0dev,>=1.0 in c:\\users\\user\\onedrive\\documents\\genai-exchange\\backend\\venv\\lib\\site-packages (from google-cloud-storage) (1.7.1)\n",
      "Requirement already satisfied: googleapis-common-protos<2.0.0,>=1.56.2 in c:\\users\\user\\onedrive\\documents\\genai-exchange\\backend\\venv\\lib\\site-packages (from google-api-core<3.0.0dev,>=2.15.0->google-cloud-storage) (1.70.0)\n",
      "Requirement already satisfied: protobuf!=3.20.0,!=3.20.1,!=4.21.0,!=4.21.1,!=4.21.2,!=4.21.3,!=4.21.4,!=4.21.5,<7.0.0,>=3.19.5 in c:\\users\\user\\onedrive\\documents\\genai-exchange\\backend\\venv\\lib\\site-packages (from google-api-core<3.0.0dev,>=2.15.0->google-cloud-storage) (5.29.5)\n",
      "Requirement already satisfied: proto-plus<2.0.0,>=1.22.3 in c:\\users\\user\\onedrive\\documents\\genai-exchange\\backend\\venv\\lib\\site-packages (from google-api-core<3.0.0dev,>=2.15.0->google-cloud-storage) (1.26.1)\n",
      "Requirement already satisfied: cachetools<6.0,>=2.0.0 in c:\\users\\user\\onedrive\\documents\\genai-exchange\\backend\\venv\\lib\\site-packages (from google-auth<3.0dev,>=2.26.1->google-cloud-storage) (5.5.2)\n",
      "Requirement already satisfied: pyasn1-modules>=0.2.1 in c:\\users\\user\\onedrive\\documents\\genai-exchange\\backend\\venv\\lib\\site-packages (from google-auth<3.0dev,>=2.26.1->google-cloud-storage) (0.4.2)\n",
      "Requirement already satisfied: rsa<5,>=3.1.4 in c:\\users\\user\\onedrive\\documents\\genai-exchange\\backend\\venv\\lib\\site-packages (from google-auth<3.0dev,>=2.26.1->google-cloud-storage) (4.9.1)\n",
      "Requirement already satisfied: charset_normalizer<4,>=2 in c:\\users\\user\\onedrive\\documents\\genai-exchange\\backend\\venv\\lib\\site-packages (from requests<3.0.0dev,>=2.18.0->google-cloud-storage) (3.4.3)\n",
      "Requirement already satisfied: idna<4,>=2.5 in c:\\users\\user\\onedrive\\documents\\genai-exchange\\backend\\venv\\lib\\site-packages (from requests<3.0.0dev,>=2.18.0->google-cloud-storage) (3.10)\n",
      "Requirement already satisfied: urllib3<3,>=1.21.1 in c:\\users\\user\\onedrive\\documents\\genai-exchange\\backend\\venv\\lib\\site-packages (from requests<3.0.0dev,>=2.18.0->google-cloud-storage) (2.5.0)\n",
      "Requirement already satisfied: certifi>=2017.4.17 in c:\\users\\user\\onedrive\\documents\\genai-exchange\\backend\\venv\\lib\\site-packages (from requests<3.0.0dev,>=2.18.0->google-cloud-storage) (2025.8.3)\n",
      "Requirement already satisfied: pyasn1>=0.1.3 in c:\\users\\user\\onedrive\\documents\\genai-exchange\\backend\\venv\\lib\\site-packages (from rsa<5,>=3.1.4->google-auth<3.0dev,>=2.26.1->google-cloud-storage) (0.6.1)\n"
     ]
    }
   ],
   "source": [
    "!pip install --upgrade google-cloud-aiplatform\n",
    "!pip install google-cloud-storage"
   ]
  },
  {
   "cell_type": "code",
   "execution_count": 2,
   "id": "283c5c04",
   "metadata": {},
   "outputs": [],
   "source": [
    "from vertexai.generative_models import GenerativeModel\n",
    "import vertexai\n",
    "from google.cloud import aiplatform\n",
    "import os"
   ]
  },
  {
   "cell_type": "code",
   "execution_count": 3,
   "id": "626c220b",
   "metadata": {},
   "outputs": [],
   "source": [
    "PROJECT_ID = \"sodium-coil-470706-f4\"\n",
    "LOCATION = \"us-central1\"\n",
    "\n",
    "vertexai.init(project=PROJECT_ID, location=LOCATION)\n"
   ]
  },
  {
   "cell_type": "code",
   "execution_count": 9,
   "id": "126708d1",
   "metadata": {},
   "outputs": [
    {
     "name": "stdout",
     "output_type": "stream",
     "text": [
      "Based on the clause \"The tenant must vacate the premises within 30 days of notice\" and your specified location of \"India,\" here are some relevant legal principles and precedents, keeping in mind that landlord-tenant laws in India are primarily governed by state-specific Rent Control Acts.\n",
      "\n",
      "While there isn't a single, universally binding Supreme Court case that dictates a strict \"30-day\" rule across all of India for all tenancies (as the duration often depends on the specific agreement and the applicable state law), the following principles and landmark cases inform the general understanding of notice periods and vacating premises in India:\n",
      "\n",
      "1.  **Case name:** *Saradamani Kandappan v. S. Ranganathan*\n",
      "    **Year of decision:** 2010\n",
      "    **Jurisdiction:** Supreme Court of India\n",
      "    **Explanation:** While this case primarily dealt with the Specific Relief Act and the enforceability of contracts for sale, the Supreme Court acknowledged the importance of contractual terms and the need for parties to adhere to agreed-upon timelines. This principle extends to tenancy agreements, where the stipulated notice period for vacating is a crucial term that the court will generally uphold, provided it is reasonable and not contrary to statutory provisions.\n",
      "\n",
      "2.  **Case name:** *State of Bihar v. Basawan Singh*\n",
      "    **Year of decision:** 1977\n",
      "    **Jurisdiction:** Supreme Court of India\n",
      "    **Explanation:** This case dealt with the eviction of government employees from official residences. However, it reinforced the general legal principle that statutory provisions or lease agreements prescribing a notice period for vacating premises must be followed. It highlights the legal framework that requires a proper and legally recognized notice to be served before a tenant can be compelled to vacate.\n",
      "\n",
      "3.  **Relevant Legal Framework:** The **Transfer of Property Act, 1882**, specifically **Section 106**, provides a statutory framework for notice periods in lease agreements.\n",
      "    **Jurisdiction:** India (all states)\n",
      "    **Explanation:** Section 106 of the Transfer of Property Act specifies the duration of notice required to terminate a lease of immovable property. For leases of immovable property for agricultural or *manufacturing purposes*, the notice period is six months. For *any other purpose* (which includes most residential and commercial tenancies), the notice period is fifteen days, expiring at the end of a month of the tenancy. While the clause mentions \"30 days,\" Section 106 serves as a baseline, and if the tenancy agreement or specific state Rent Control Act specifies a longer period like 30 days, that would generally prevail, provided it's reasonable and legally permissible.\n",
      "\n",
      "**Important Note:** Landlord-tenant relations in India are heavily influenced by state-specific Rent Control Acts. These acts often prescribe specific notice periods for eviction, grounds for eviction, and other conditions that may override general principles or contractual terms if they are deemed unfair or violate the statute. Therefore, to provide the most precise advice, it would be crucial to know the specific state in India where the premises are located. For instance, laws in Delhi, Maharashtra, or West Bengal will have their unique provisions regarding notice periods.\n"
     ]
    }
   ],
   "source": [
    "model = GenerativeModel(\"gemini-2.5-flash-lite\")\n",
    "\n",
    "def find_precedents(user_clause: str, location: str = \"US\") -> str:\n",
    "    prompt = f\"\"\"\n",
    "    You are a highly precise legal research assistant.\n",
    "    Given the clause below, identify the most relevant and authoritative legal precedents from the user's location and jurisdiction.\n",
    "    If the clause is specific to a country or state (e.g., US, India, UK, EU, or any other), focus on that jurisdiction. \n",
    "    If the law is state-specific (e.g., California, New York), mention the state explicitly in your response.\n",
    "\n",
    "    For each precedent, provide:\n",
    "    1. Case name (official citation if available)\n",
    "    2. Year of decision\n",
    "    3. Jurisdiction (country and state, if applicable)\n",
    "    4. A concise explanation (2-3 sentences) of why this precedent is directly relevant to the clause.\n",
    "\n",
    "    Only include precedents that are widely recognized and have significant legal impact.\n",
    "    Exclude any cases that are tangential or lack direct relevance.\n",
    "\n",
    "    Clause: \"{user_clause}\"\n",
    "    Location: \"{location}\"\n",
    "    \"\"\"\n",
    "\n",
    "    response = model.generate_content(prompt )\n",
    "    return response.text\n",
    "\n",
    "# Test with sample input\n",
    "print(find_precedents(\"The tenant must vacate the premises within 30 days of notice.\", \"India\"))\n"
   ]
  },
  {
   "cell_type": "code",
   "execution_count": null,
   "id": "163025a5",
   "metadata": {},
   "outputs": [],
   "source": []
  }
 ],
 "metadata": {
  "kernelspec": {
   "display_name": "venv",
   "language": "python",
   "name": "python3"
  },
  "language_info": {
   "codemirror_mode": {
    "name": "ipython",
    "version": 3
   },
   "file_extension": ".py",
   "mimetype": "text/x-python",
   "name": "python",
   "nbconvert_exporter": "python",
   "pygments_lexer": "ipython3",
   "version": "3.13.5"
  }
 },
 "nbformat": 4,
 "nbformat_minor": 5
}
