{
 "cells": [
  {
   "cell_type": "code",
   "execution_count": 10,
   "id": "aed8b22c",
   "metadata": {},
   "outputs": [
    {
     "name": "stdout",
     "output_type": "stream",
     "text": [
      "Requirement already satisfied: google-cloud-aiplatform in c:\\users\\braga\\appdata\\local\\programs\\python\\python311\\lib\\site-packages (1.115.0)\n",
      "Requirement already satisfied: google-api-core!=2.0.*,!=2.1.*,!=2.2.*,!=2.3.*,!=2.4.*,!=2.5.*,!=2.6.*,!=2.7.*,<3.0.0,>=1.34.1 in c:\\users\\braga\\appdata\\local\\programs\\python\\python311\\lib\\site-packages (from google-api-core[grpc]!=2.0.*,!=2.1.*,!=2.2.*,!=2.3.*,!=2.4.*,!=2.5.*,!=2.6.*,!=2.7.*,<3.0.0,>=1.34.1->google-cloud-aiplatform) (2.25.1)\n",
      "Requirement already satisfied: google-auth<3.0.0,>=2.14.1 in c:\\users\\braga\\appdata\\local\\programs\\python\\python311\\lib\\site-packages (from google-cloud-aiplatform) (2.40.3)\n",
      "Requirement already satisfied: proto-plus<2.0.0,>=1.22.3 in c:\\users\\braga\\appdata\\local\\programs\\python\\python311\\lib\\site-packages (from google-cloud-aiplatform) (1.26.1)\n",
      "Requirement already satisfied: protobuf!=4.21.0,!=4.21.1,!=4.21.2,!=4.21.3,!=4.21.4,!=4.21.5,<7.0.0,>=3.20.2 in c:\\users\\braga\\appdata\\local\\programs\\python\\python311\\lib\\site-packages (from google-cloud-aiplatform) (6.31.1)\n",
      "Requirement already satisfied: packaging>=14.3 in c:\\users\\braga\\appdata\\local\\programs\\python\\python311\\lib\\site-packages (from google-cloud-aiplatform) (25.0)\n",
      "Requirement already satisfied: google-cloud-storage<3.0.0,>=1.32.0 in c:\\users\\braga\\appdata\\local\\programs\\python\\python311\\lib\\site-packages (from google-cloud-aiplatform) (2.19.0)\n",
      "Requirement already satisfied: google-cloud-bigquery!=3.20.0,<4.0.0,>=1.15.0 in c:\\users\\braga\\appdata\\local\\programs\\python\\python311\\lib\\site-packages (from google-cloud-aiplatform) (3.38.0)\n",
      "Requirement already satisfied: google-cloud-resource-manager<3.0.0,>=1.3.3 in c:\\users\\braga\\appdata\\local\\programs\\python\\python311\\lib\\site-packages (from google-cloud-aiplatform) (1.14.2)\n",
      "Requirement already satisfied: shapely<3.0.0 in c:\\users\\braga\\appdata\\local\\programs\\python\\python311\\lib\\site-packages (from google-cloud-aiplatform) (2.1.1)\n",
      "Requirement already satisfied: google-genai<2.0.0,>=1.0.0 in c:\\users\\braga\\appdata\\local\\programs\\python\\python311\\lib\\site-packages (from google-cloud-aiplatform) (1.38.0)\n",
      "Requirement already satisfied: pydantic<3 in c:\\users\\braga\\appdata\\local\\programs\\python\\python311\\lib\\site-packages (from google-cloud-aiplatform) (2.11.7)\n",
      "Requirement already satisfied: typing_extensions in c:\\users\\braga\\appdata\\local\\programs\\python\\python311\\lib\\site-packages (from google-cloud-aiplatform) (4.14.1)\n",
      "Requirement already satisfied: docstring_parser<1 in c:\\users\\braga\\appdata\\local\\programs\\python\\python311\\lib\\site-packages (from google-cloud-aiplatform) (0.17.0)\n",
      "Requirement already satisfied: googleapis-common-protos<2.0.0,>=1.56.2 in c:\\users\\braga\\appdata\\local\\programs\\python\\python311\\lib\\site-packages (from google-api-core!=2.0.*,!=2.1.*,!=2.2.*,!=2.3.*,!=2.4.*,!=2.5.*,!=2.6.*,!=2.7.*,<3.0.0,>=1.34.1->google-api-core[grpc]!=2.0.*,!=2.1.*,!=2.2.*,!=2.3.*,!=2.4.*,!=2.5.*,!=2.6.*,!=2.7.*,<3.0.0,>=1.34.1->google-cloud-aiplatform) (1.70.0)\n",
      "Requirement already satisfied: requests<3.0.0,>=2.18.0 in c:\\users\\braga\\appdata\\local\\programs\\python\\python311\\lib\\site-packages (from google-api-core!=2.0.*,!=2.1.*,!=2.2.*,!=2.3.*,!=2.4.*,!=2.5.*,!=2.6.*,!=2.7.*,<3.0.0,>=1.34.1->google-api-core[grpc]!=2.0.*,!=2.1.*,!=2.2.*,!=2.3.*,!=2.4.*,!=2.5.*,!=2.6.*,!=2.7.*,<3.0.0,>=1.34.1->google-cloud-aiplatform) (2.32.4)\n",
      "Requirement already satisfied: grpcio<2.0.0,>=1.33.2 in c:\\users\\braga\\appdata\\local\\programs\\python\\python311\\lib\\site-packages (from google-api-core[grpc]!=2.0.*,!=2.1.*,!=2.2.*,!=2.3.*,!=2.4.*,!=2.5.*,!=2.6.*,!=2.7.*,<3.0.0,>=1.34.1->google-cloud-aiplatform) (1.74.0)\n",
      "Requirement already satisfied: grpcio-status<2.0.0,>=1.33.2 in c:\\users\\braga\\appdata\\local\\programs\\python\\python311\\lib\\site-packages (from google-api-core[grpc]!=2.0.*,!=2.1.*,!=2.2.*,!=2.3.*,!=2.4.*,!=2.5.*,!=2.6.*,!=2.7.*,<3.0.0,>=1.34.1->google-cloud-aiplatform) (1.74.0)\n",
      "Requirement already satisfied: cachetools<6.0,>=2.0.0 in c:\\users\\braga\\appdata\\local\\programs\\python\\python311\\lib\\site-packages (from google-auth<3.0.0,>=2.14.1->google-cloud-aiplatform) (5.5.2)\n",
      "Requirement already satisfied: pyasn1-modules>=0.2.1 in c:\\users\\braga\\appdata\\local\\programs\\python\\python311\\lib\\site-packages (from google-auth<3.0.0,>=2.14.1->google-cloud-aiplatform) (0.4.2)\n",
      "Requirement already satisfied: rsa<5,>=3.1.4 in c:\\users\\braga\\appdata\\local\\programs\\python\\python311\\lib\\site-packages (from google-auth<3.0.0,>=2.14.1->google-cloud-aiplatform) (4.9.1)\n",
      "Requirement already satisfied: google-cloud-core<3.0.0,>=2.4.1 in c:\\users\\braga\\appdata\\local\\programs\\python\\python311\\lib\\site-packages (from google-cloud-bigquery!=3.20.0,<4.0.0,>=1.15.0->google-cloud-aiplatform) (2.4.3)\n",
      "Requirement already satisfied: google-resumable-media<3.0.0,>=2.0.0 in c:\\users\\braga\\appdata\\local\\programs\\python\\python311\\lib\\site-packages (from google-cloud-bigquery!=3.20.0,<4.0.0,>=1.15.0->google-cloud-aiplatform) (2.7.2)\n",
      "Requirement already satisfied: python-dateutil<3.0.0,>=2.8.2 in c:\\users\\braga\\appdata\\local\\programs\\python\\python311\\lib\\site-packages (from google-cloud-bigquery!=3.20.0,<4.0.0,>=1.15.0->google-cloud-aiplatform) (2.9.0.post0)\n",
      "Requirement already satisfied: grpc-google-iam-v1<1.0.0,>=0.14.0 in c:\\users\\braga\\appdata\\local\\programs\\python\\python311\\lib\\site-packages (from google-cloud-resource-manager<3.0.0,>=1.3.3->google-cloud-aiplatform) (0.14.2)\n",
      "Requirement already satisfied: google-crc32c<2.0dev,>=1.0 in c:\\users\\braga\\appdata\\local\\programs\\python\\python311\\lib\\site-packages (from google-cloud-storage<3.0.0,>=1.32.0->google-cloud-aiplatform) (1.7.1)\n",
      "Requirement already satisfied: anyio<5.0.0,>=4.8.0 in c:\\users\\braga\\appdata\\local\\programs\\python\\python311\\lib\\site-packages (from google-genai<2.0.0,>=1.0.0->google-cloud-aiplatform) (4.10.0)\n",
      "Requirement already satisfied: httpx<1.0.0,>=0.28.1 in c:\\users\\braga\\appdata\\local\\programs\\python\\python311\\lib\\site-packages (from google-genai<2.0.0,>=1.0.0->google-cloud-aiplatform) (0.28.1)\n",
      "Requirement already satisfied: tenacity<9.2.0,>=8.2.3 in c:\\users\\braga\\appdata\\local\\programs\\python\\python311\\lib\\site-packages (from google-genai<2.0.0,>=1.0.0->google-cloud-aiplatform) (9.1.2)\n",
      "Requirement already satisfied: websockets<15.1.0,>=13.0.0 in c:\\users\\braga\\appdata\\local\\programs\\python\\python311\\lib\\site-packages (from google-genai<2.0.0,>=1.0.0->google-cloud-aiplatform) (15.0.1)\n",
      "Requirement already satisfied: annotated-types>=0.6.0 in c:\\users\\braga\\appdata\\local\\programs\\python\\python311\\lib\\site-packages (from pydantic<3->google-cloud-aiplatform) (0.7.0)\n",
      "Requirement already satisfied: pydantic-core==2.33.2 in c:\\users\\braga\\appdata\\local\\programs\\python\\python311\\lib\\site-packages (from pydantic<3->google-cloud-aiplatform) (2.33.2)\n",
      "Requirement already satisfied: typing-inspection>=0.4.0 in c:\\users\\braga\\appdata\\local\\programs\\python\\python311\\lib\\site-packages (from pydantic<3->google-cloud-aiplatform) (0.4.1)\n",
      "Requirement already satisfied: numpy>=1.21 in c:\\users\\braga\\appdata\\local\\programs\\python\\python311\\lib\\site-packages (from shapely<3.0.0->google-cloud-aiplatform) (2.3.1)\n",
      "Requirement already satisfied: idna>=2.8 in c:\\users\\braga\\appdata\\local\\programs\\python\\python311\\lib\\site-packages (from anyio<5.0.0,>=4.8.0->google-genai<2.0.0,>=1.0.0->google-cloud-aiplatform) (3.10)\n",
      "Requirement already satisfied: sniffio>=1.1 in c:\\users\\braga\\appdata\\local\\programs\\python\\python311\\lib\\site-packages (from anyio<5.0.0,>=4.8.0->google-genai<2.0.0,>=1.0.0->google-cloud-aiplatform) (1.3.1)\n",
      "Requirement already satisfied: certifi in c:\\users\\braga\\appdata\\local\\programs\\python\\python311\\lib\\site-packages (from httpx<1.0.0,>=0.28.1->google-genai<2.0.0,>=1.0.0->google-cloud-aiplatform) (2025.7.14)\n",
      "Requirement already satisfied: httpcore==1.* in c:\\users\\braga\\appdata\\local\\programs\\python\\python311\\lib\\site-packages (from httpx<1.0.0,>=0.28.1->google-genai<2.0.0,>=1.0.0->google-cloud-aiplatform) (1.0.9)\n",
      "Requirement already satisfied: h11>=0.16 in c:\\users\\braga\\appdata\\local\\programs\\python\\python311\\lib\\site-packages (from httpcore==1.*->httpx<1.0.0,>=0.28.1->google-genai<2.0.0,>=1.0.0->google-cloud-aiplatform) (0.16.0)\n",
      "Requirement already satisfied: pyasn1<0.7.0,>=0.6.1 in c:\\users\\braga\\appdata\\local\\programs\\python\\python311\\lib\\site-packages (from pyasn1-modules>=0.2.1->google-auth<3.0.0,>=2.14.1->google-cloud-aiplatform) (0.6.1)\n",
      "Requirement already satisfied: six>=1.5 in c:\\users\\braga\\appdata\\local\\programs\\python\\python311\\lib\\site-packages (from python-dateutil<3.0.0,>=2.8.2->google-cloud-bigquery!=3.20.0,<4.0.0,>=1.15.0->google-cloud-aiplatform) (1.17.0)\n",
      "Requirement already satisfied: charset_normalizer<4,>=2 in c:\\users\\braga\\appdata\\local\\programs\\python\\python311\\lib\\site-packages (from requests<3.0.0,>=2.18.0->google-api-core!=2.0.*,!=2.1.*,!=2.2.*,!=2.3.*,!=2.4.*,!=2.5.*,!=2.6.*,!=2.7.*,<3.0.0,>=1.34.1->google-api-core[grpc]!=2.0.*,!=2.1.*,!=2.2.*,!=2.3.*,!=2.4.*,!=2.5.*,!=2.6.*,!=2.7.*,<3.0.0,>=1.34.1->google-cloud-aiplatform) (3.4.2)\n",
      "Requirement already satisfied: urllib3<3,>=1.21.1 in c:\\users\\braga\\appdata\\local\\programs\\python\\python311\\lib\\site-packages (from requests<3.0.0,>=2.18.0->google-api-core!=2.0.*,!=2.1.*,!=2.2.*,!=2.3.*,!=2.4.*,!=2.5.*,!=2.6.*,!=2.7.*,<3.0.0,>=1.34.1->google-api-core[grpc]!=2.0.*,!=2.1.*,!=2.2.*,!=2.3.*,!=2.4.*,!=2.5.*,!=2.6.*,!=2.7.*,<3.0.0,>=1.34.1->google-cloud-aiplatform) (2.5.0)\n"
     ]
    },
    {
     "name": "stderr",
     "output_type": "stream",
     "text": [
      "\n",
      "[notice] A new release of pip is available: 24.0 -> 25.2\n",
      "[notice] To update, run: python.exe -m pip install --upgrade pip\n"
     ]
    },
    {
     "name": "stdout",
     "output_type": "stream",
     "text": [
      "Requirement already satisfied: google-cloud-storage in c:\\users\\braga\\appdata\\local\\programs\\python\\python311\\lib\\site-packages (2.19.0)\n",
      "Requirement already satisfied: google-auth<3.0dev,>=2.26.1 in c:\\users\\braga\\appdata\\local\\programs\\python\\python311\\lib\\site-packages (from google-cloud-storage) (2.40.3)\n",
      "Requirement already satisfied: google-api-core<3.0.0dev,>=2.15.0 in c:\\users\\braga\\appdata\\local\\programs\\python\\python311\\lib\\site-packages (from google-cloud-storage) (2.25.1)\n",
      "Requirement already satisfied: google-cloud-core<3.0dev,>=2.3.0 in c:\\users\\braga\\appdata\\local\\programs\\python\\python311\\lib\\site-packages (from google-cloud-storage) (2.4.3)\n",
      "Requirement already satisfied: google-resumable-media>=2.7.2 in c:\\users\\braga\\appdata\\local\\programs\\python\\python311\\lib\\site-packages (from google-cloud-storage) (2.7.2)\n",
      "Requirement already satisfied: requests<3.0.0dev,>=2.18.0 in c:\\users\\braga\\appdata\\local\\programs\\python\\python311\\lib\\site-packages (from google-cloud-storage) (2.32.4)\n",
      "Requirement already satisfied: google-crc32c<2.0dev,>=1.0 in c:\\users\\braga\\appdata\\local\\programs\\python\\python311\\lib\\site-packages (from google-cloud-storage) (1.7.1)\n",
      "Requirement already satisfied: googleapis-common-protos<2.0.0,>=1.56.2 in c:\\users\\braga\\appdata\\local\\programs\\python\\python311\\lib\\site-packages (from google-api-core<3.0.0dev,>=2.15.0->google-cloud-storage) (1.70.0)\n",
      "Requirement already satisfied: protobuf!=3.20.0,!=3.20.1,!=4.21.0,!=4.21.1,!=4.21.2,!=4.21.3,!=4.21.4,!=4.21.5,<7.0.0,>=3.19.5 in c:\\users\\braga\\appdata\\local\\programs\\python\\python311\\lib\\site-packages (from google-api-core<3.0.0dev,>=2.15.0->google-cloud-storage) (6.31.1)\n",
      "Requirement already satisfied: proto-plus<2.0.0,>=1.22.3 in c:\\users\\braga\\appdata\\local\\programs\\python\\python311\\lib\\site-packages (from google-api-core<3.0.0dev,>=2.15.0->google-cloud-storage) (1.26.1)\n",
      "Requirement already satisfied: cachetools<6.0,>=2.0.0 in c:\\users\\braga\\appdata\\local\\programs\\python\\python311\\lib\\site-packages (from google-auth<3.0dev,>=2.26.1->google-cloud-storage) (5.5.2)\n",
      "Requirement already satisfied: pyasn1-modules>=0.2.1 in c:\\users\\braga\\appdata\\local\\programs\\python\\python311\\lib\\site-packages (from google-auth<3.0dev,>=2.26.1->google-cloud-storage) (0.4.2)\n",
      "Requirement already satisfied: rsa<5,>=3.1.4 in c:\\users\\braga\\appdata\\local\\programs\\python\\python311\\lib\\site-packages (from google-auth<3.0dev,>=2.26.1->google-cloud-storage) (4.9.1)\n",
      "Requirement already satisfied: charset_normalizer<4,>=2 in c:\\users\\braga\\appdata\\local\\programs\\python\\python311\\lib\\site-packages (from requests<3.0.0dev,>=2.18.0->google-cloud-storage) (3.4.2)\n",
      "Requirement already satisfied: idna<4,>=2.5 in c:\\users\\braga\\appdata\\local\\programs\\python\\python311\\lib\\site-packages (from requests<3.0.0dev,>=2.18.0->google-cloud-storage) (3.10)\n",
      "Requirement already satisfied: urllib3<3,>=1.21.1 in c:\\users\\braga\\appdata\\local\\programs\\python\\python311\\lib\\site-packages (from requests<3.0.0dev,>=2.18.0->google-cloud-storage) (2.5.0)\n",
      "Requirement already satisfied: certifi>=2017.4.17 in c:\\users\\braga\\appdata\\local\\programs\\python\\python311\\lib\\site-packages (from requests<3.0.0dev,>=2.18.0->google-cloud-storage) (2025.7.14)\n",
      "Requirement already satisfied: pyasn1<0.7.0,>=0.6.1 in c:\\users\\braga\\appdata\\local\\programs\\python\\python311\\lib\\site-packages (from pyasn1-modules>=0.2.1->google-auth<3.0dev,>=2.26.1->google-cloud-storage) (0.6.1)\n"
     ]
    },
    {
     "name": "stderr",
     "output_type": "stream",
     "text": [
      "\n",
      "[notice] A new release of pip is available: 24.0 -> 25.2\n",
      "[notice] To update, run: python.exe -m pip install --upgrade pip\n"
     ]
    }
   ],
   "source": [
    "!pip install --upgrade google-cloud-aiplatform\n",
    "!pip install google-cloud-storage"
   ]
  },
  {
   "cell_type": "code",
   "execution_count": 11,
   "id": "283c5c04",
   "metadata": {},
   "outputs": [],
   "source": [
    "from vertexai.generative_models import GenerativeModel\n",
    "import vertexai\n",
    "from google.cloud import aiplatform\n",
    "import os"
   ]
  },
  {
   "cell_type": "code",
   "execution_count": 12,
   "id": "626c220b",
   "metadata": {},
   "outputs": [],
   "source": [
    "PROJECT_ID = \"sodium-coil-470706-f4\"\n",
    "LOCATION = \"us-central1\"\n",
    "\n",
    "vertexai.init(project=PROJECT_ID, location=LOCATION)\n"
   ]
  },
  {
   "cell_type": "code",
   "execution_count": 13,
   "id": "126708d1",
   "metadata": {},
   "outputs": [
    {
     "name": "stdout",
     "output_type": "stream",
     "text": [
      "This clause deals with the termination of a tenancy agreement and the tenant's obligation to vacate. This is a common area of landlord-tenant law across jurisdictions, with variations often hinging on specific notice periods, the grounds for termination, and procedural requirements.\n",
      "\n",
      "Here are some relevant legal precedents from various jurisdictions:\n",
      "\n",
      "### India\n",
      "\n",
      "1.  **Case Name:** *Delhi Stationers and Printers Pvt. Ltd. v. Ambar Cinema*\n",
      "    **Year:** 1996\n",
      "    **Jurisdiction:** India (Supreme Court of India)\n",
      "    **Explanation of Relevance:** This case, while concerning eviction under specific rent control legislation, highlights the importance of the validity and proper service of notice for termination of tenancy. The court emphasized that a notice must be clear, unambiguous, and in compliance with the statutory requirements to be legally effective, which is crucial for the 30-day vacation period to commence.\n",
      "\n",
      "2.  **Case Name:** *S.G. Sambandam Mudaliar v. P.D. Pillay*\n",
      "    **Year:** 1973\n",
      "    **Jurisdiction:** India (Supreme Court of India)\n",
      "    **Explanation of Relevance:** This judgment deals with the interpretation of notice periods in tenancy agreements. It clarifies that if the notice period is clearly stipulated, such as the 30 days in the clause, and the notice is properly served, the tenant is bound by that period to vacate. The case underscores the contractual nature of such clauses.\n",
      "\n",
      "### United States\n",
      "\n",
      "1.  **Case Name:** *Payne v. United States*\n",
      "    **Year:** 1970\n",
      "    **Jurisdiction:** United States (District of Columbia Court of Appeals)\n",
      "    **Explanation of Relevance:** While this case involves a dispute over a lease agreement, it broadly touches upon the enforceability of lease terms, including notice periods for termination. It reinforces the principle that if the notice is given in accordance with the lease and applicable statutes, the tenant is obligated to comply with the vacation timeline.\n",
      "\n",
      "2.  **Case Name:** *Groves v. Winston*\n",
      "    **Year:** 1986\n",
      "    **Jurisdiction:** United States (California Court of Appeal)\n",
      "    **Explanation of Relevance:** This case discusses the implications of a tenant failing to vacate after proper notice. It establishes that a landlord can pursue legal remedies, such as an unlawful detainer action, to recover possession of the premises if the tenant remains beyond the stipulated notice period. This demonstrates the legal consequences of not adhering to the \"vacate within 30 days\" clause.\n",
      "\n",
      "### United Kingdom\n",
      "\n",
      "1.  **Case Name:** *Mann v. Walsall Metropolitan Borough Council*\n",
      "    **Year:** 1980\n",
      "    **Jurisdiction:** United Kingdom (House of Lords)\n",
      "    **Explanation of Relevance:** This is a foundational case regarding notice to quit in residential tenancies. It established that a notice to quit must be clear and unequivocal, and if it specifies a date for vacation, that date must be correctly calculated according to the tenancy agreement and relevant legislation. The 30-day period in the clause would be subject to similar scrutiny for clarity and compliance.\n",
      "\n",
      "2.  **Case Name:** *Amin v. Amin*\n",
      "    **Year:** 1997\n",
      "    **Jurisdiction:** United Kingdom (Court of Appeal)\n",
      "    **Explanation of Relevance:** This case examined the validity of a notice to quit where there were defects in its content. It reinforces the principle that statutory requirements for notice periods and their content must be strictly adhered to. If a notice fails to meet these standards, the tenant may not be obliged to vacate within the specified period, impacting the enforceability of the \"30 days\" clause.\n",
      "\n",
      "### European Union\n",
      "\n",
      "As the EU does not have a unified landlord-tenant law that would create direct precedents across all member states on this specific clause, the relevance is in the underlying principles of contract law and consumer protection that guide national legislation.\n",
      "\n",
      "*   **General Principle (Directive 93/13/EEC on Unfair Terms in Consumer Contracts):**\n",
      "    **Year:** 1993\n",
      "    **Jurisdiction:** European Union\n",
      "    **Explanation of Relevance:** While not a specific case, this directive is highly relevant. It states that contractual terms which cause a significant imbalance in the parties' rights and obligations to the detriment of the consumer (tenant) may be deemed unfair. A very short or arbitrary notice period, if not balanced by tenant rights or justifiable grounds, could potentially be challenged as unfair under this directive, though the 30-day period itself is not inherently unfair.\n",
      "\n",
      "*   **National Jurisprudence Example (Germany):**\n",
      "    **Case Name:** *Bundesgerichtshof (Federal Court of Justice) Decisions on Tenancy Law* (Various cases)\n",
      "    **Year:** Ongoing\n",
      "    **Jurisdiction:** Germany\n",
      "    **Explanation of Relevance:** German law, for instance, has specific regulations on notice periods for residential tenancies which often favor the tenant and are typically longer than 30 days for indefinite contracts. Courts in Germany would assess whether a 30-day notice clause complies with these statutory protections, particularly regarding the grounds for termination and whether it's an \"unfair term\" or contravenes public policy.\n",
      "\n",
      "### Other Jurisdictions (Canada)\n",
      "\n",
      "1.  **Case Name:** *Central Guaranty Trust Company v. 1006468 Ontario Ltd.*\n",
      "    **Year:** 1993\n",
      "    **Jurisdiction:** Canada (Ontario Court of Appeal)\n",
      "    **Explanation of Relevance:** This case involved the interpretation of a lease agreement and the effectiveness of notice. It highlights that the terms of the lease, including notice periods for termination, are binding on the parties. The court would look to whether the notice was given in accordance with the lease and any applicable provincial landlord and tenant legislation, which often sets minimum notice periods.\n",
      "\n",
      "These precedents demonstrate that while a clause stating \"The tenant must vacate the premises within 30 days of notice\" is a clear contractual stipulation, its enforceability is subject to the specifics of the lease agreement, applicable statutory laws regarding notice periods, grounds for termination, and proper procedural steps in each jurisdiction.\n"
     ]
    }
   ],
   "source": [
    "model = GenerativeModel(\"gemini-2.5-flash-lite\")\n",
    "\n",
    "def find_precedents(user_clause: str):\n",
    "    prompt = f\"\"\"\n",
    "    You are a legal research assistant.\n",
    "    Given the following clause, identify relevant legal precedents across multiple jurisdictions \n",
    "    (India, United States, United Kingdom, European Union, and others if applicable).\n",
    "\n",
    "    For each precedent, provide:\n",
    "    1. Case name\n",
    "    2. Year\n",
    "    3. Jurisdiction\n",
    "    4. Explanation of relevance (2-3 sentences).\n",
    "\n",
    "    Clause: \"{user_clause}\"\n",
    "    \"\"\"\n",
    "\n",
    "    response = model.generate_content(prompt)\n",
    "    return response.text\n",
    "\n",
    "# Test with sample input\n",
    "print(find_precedents(\"The tenant must vacate the premises within 30 days of notice.\"))\n"
   ]
  },
  {
   "cell_type": "code",
   "execution_count": null,
   "id": "163025a5",
   "metadata": {},
   "outputs": [],
   "source": []
  }
 ],
 "metadata": {
  "kernelspec": {
   "display_name": "Python 3",
   "language": "python",
   "name": "python3"
  },
  "language_info": {
   "codemirror_mode": {
    "name": "ipython",
    "version": 3
   },
   "file_extension": ".py",
   "mimetype": "text/x-python",
   "name": "python",
   "nbconvert_exporter": "python",
   "pygments_lexer": "ipython3",
   "version": "3.11.8"
  }
 },
 "nbformat": 4,
 "nbformat_minor": 5
}
