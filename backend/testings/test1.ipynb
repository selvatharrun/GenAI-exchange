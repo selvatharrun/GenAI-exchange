{
 "cells": [
  {
   "cell_type": "code",
   "execution_count": 27,
   "id": "6e4f8b27",
   "metadata": {},
   "outputs": [
    {
     "data": {
      "text/plain": [
       "{'system_instruction': {'role': 'legal document assistant',\n",
       "  'content': ['You are a highly reliable legal document assistant specialized in answering questions about legal documents.',\n",
       "   'Your role is to extract, summarize, and clarify content from provided documents without altering meaning.',\n",
       "   'Always ground your responses in the text of the document. If the document does not contain the answer, state clearly that the information is not available.',\n",
       "   'Do not provide legal advice or personal opinions. Remain neutral and factual.',\n",
       "   'When referencing information, cite the relevant section, clause, or paragraph from the document whenever possible.',\n",
       "   'Use plain and concise language, but preserve legal precision.',\n",
       "   'If a question is ambiguous, ask for clarification rather than assuming.']}}"
      ]
     },
     "execution_count": 27,
     "metadata": {},
     "output_type": "execute_result"
    }
   ],
   "source": [
    "#the system instruction our vertex ai is working on.\n",
    "{\n",
    "  \"system_instruction\": {\n",
    "    \"role\": \"legal document assistant\",\n",
    "    \"content\": [\n",
    "      \"You are a highly reliable legal document assistant specialized in answering questions about legal documents.\",\n",
    "      \"Your role is to extract, summarize, and clarify content from provided documents without altering meaning.\",\n",
    "      \"Always ground your responses in the text of the document. If the document does not contain the answer, state clearly that the information is not available.\",\n",
    "      \"Do not provide legal advice or personal opinions. Remain neutral and factual.\",\n",
    "      \"When referencing information, cite the relevant section, clause, or paragraph from the document whenever possible.\",\n",
    "      \"Use plain and concise language, but preserve legal precision.\",\n",
    "      \"If a question is ambiguous, ask for clarification rather than assuming.\"\n",
    "    ]\n",
    "  }\n",
    "}\n"
   ]
  },
  {
   "cell_type": "code",
   "execution_count": null,
   "id": "805160d3",
   "metadata": {},
   "outputs": [],
   "source": [
    "from flask import Flask, request, jsonify\n",
    "from google.cloud import storage\n",
    "import os\n",
    "\n",
    "app = Flask(__name__)\n",
    "\n",
    "# Set your Google Cloud credentials and bucket name\n",
    "os.environ[\"GOOGLE_APPLICATION_CREDENTIALS\"] = \"path/to/your/service-account.json\"\n",
    "BUCKET_NAME = \"your-bucket-name\"\n",
    "\n",
    "@app.route('/upload-pdf', methods=['POST'])\n",
    "def upload_pdf():\n",
    "    if 'file' not in request.files:\n",
    "        return jsonify({\"error\": \"No file part\"}), 400\n",
    "    file = request.files['file']\n",
    "    if file.filename == '':\n",
    "        return jsonify({\"error\": \"No selected file\"}), 400\n",
    "    if file and file.filename.lower().endswith('.pdf'):\n",
    "        client = storage.Client()\n",
    "        bucket = client.bucket(BUCKET_NAME)\n",
    "        blob = bucket.blob(file.filename)\n",
    "        blob.upload_from_file(file)\n",
    "        return jsonify({\"message\": \"File uploaded\", \"gcs_uri\": f\"gs://{BUCKET_NAME}/{file.filename}\"}), 200\n",
    "    return jsonify({\"error\": \"Invalid file type\"}), 400\n",
    "\n",
    "if __name__ == '__main__':\n",
    "    app.run(debug=True)"
   ]
  },
  {
   "cell_type": "code",
   "execution_count": 28,
   "id": "5a5c93a1",
   "metadata": {},
   "outputs": [],
   "source": [
    "#this is how we are going to fetch the files, this is how the workflow is going to be, uploaded file will be sent to our bucket.\n",
    "#and the GS util URI will be returned which can be sent to the Vertex AI API for processing.\n",
    "\n",
    "from google.cloud import storage\n",
    "\n",
    "def upload_blob_and_get_uri(bucket_name, source_file_name, destination_blob_name, project_id):\n",
    "    \"\"\"Uploads a file to the specified bucket and returns its gs:// URI.\"\"\"\n",
    "    # Pass the project_id explicitly\n",
    "    storage_client = storage.Client(project=project_id)\n",
    "    bucket = storage_client.bucket(bucket_name)\n",
    "    blob = bucket.blob(destination_blob_name)\n",
    "\n",
    "    blob.upload_from_filename(source_file_name)\n",
    "\n",
    "    gs_uri = f\"gs://{bucket_name}/{destination_blob_name}\"\n",
    "\n",
    "    print(f\"File {source_file_name} uploaded to {destination_blob_name} in bucket {bucket_name}.\")\n",
    "    print(f\"GS URI: {gs_uri}\")\n",
    "\n",
    "    return gs_uri\n"
   ]
  },
  {
   "cell_type": "code",
   "execution_count": null,
   "id": "ecd5fe38",
   "metadata": {},
   "outputs": [
    {
     "name": "stdout",
     "output_type": "stream",
     "text": [
      "File C:\\\\Users\\\\user\\\\OneDrive\\\\Documents\\\\GenAI-exchange\\\\backend\\\\pdf\\\\generative-ai_pdf_certificate_of_incoporation.pdf uploaded to generative-ai_pdf_certificate_of_incoporation.pdf in bucket legal-doc-bucket1.\n",
      "GS URI: gs://legal-doc-bucket1/generative-ai_pdf_certificate_of_incoporation.pdf\n",
      "\n",
      "Successfully obtained GS URI: gs://legal-doc-bucket1/generative-ai_pdf_certificate_of_incoporation.pdf\n"
     ]
    }
   ],
   "source": [
    "\n",
    "your_bucket_name = \"legal-doc-bucket1\"  # Replace with your actual bucket name\n",
    "local_file_path = r\"C:\\\\Users\\\\user\\\\OneDrive\\\\Documents\\\\GenAI-exchange\\\\backend\\\\pdf\\\\generative-ai_pdf_certificate_of_incoporation.pdf\" # Replace with the path to the file you want to upload\n",
    "destination_object_name = \"generative-ai_pdf_certificate_of_incoporation.pdf\" # The name you want the file to have in the bucket\n",
    "project_id = \"sodium-coil-470706-f4\" # Use your actual project ID\n",
    "\n",
    "# Call the function to upload and get the URI\n",
    "uploaded_uri = upload_blob_and_get_uri(\n",
    "    your_bucket_name,\n",
    "    local_file_path,\n",
    "    destination_object_name,\n",
    "    project_id\n",
    ")\n",
    "\n",
    "if uploaded_uri:\n",
    "    print(f\"\\nSuccessfully obtained GS URI: {uploaded_uri}\")\n"
   ]
  },
  {
   "cell_type": "code",
   "execution_count": 30,
   "id": "663b11ba",
   "metadata": {},
   "outputs": [
    {
     "name": "stdout",
     "output_type": "stream",
     "text": [
      "The certificate of incorporation/authority will be revoked 60 days from the date of the notice, which is June 19, 2023. Therefore, the revocation date is August 18, 2023. This is stated in the third paragraph of the document: \"Pursuant to the provisions set forth in R.I.G.L. 7-1.2-1310 and 7-1.2-1414, the Certificate of Incorporation/Authority of the above-named entity will be revoked after 60 days from the date of this notice for failure to file the Annual Report.\""
     ]
    }
   ],
   "source": [
    "#the bot has been implemented below.\n",
    "from google import genai\n",
    "from google.genai import types\n",
    "import base64\n",
    "\n",
    "def generate():\n",
    "  client = genai.Client(\n",
    "      vertexai=True,\n",
    "      project=\"sodium-coil-470706-f4\",\n",
    "      location=\"global\", \n",
    "  )\n",
    "\n",
    "  document1 = types.Part.from_uri(\n",
    "      file_uri=uploaded_uri, #the uploaded uri we fetched from the above cell would be passed here.\n",
    "      mime_type=\"application/pdf\",\n",
    "  )\n",
    "  \n",
    "  text1 = types.Part.from_text(text=\"\"\"What's the exact date that the certificate of incorporation / authority be revoked? Explain your logic.\"\"\")\n",
    "  si_text1 = \"\"\"\\\"You are a highly reliable legal document assistant specialized in answering questions about legal documents.\\\",\n",
    "      \\\"Your role is to extract, summarize, and clarify content from provided documents without altering meaning.\\\",\n",
    "      \\\"Always ground your responses in the text of the document. If the document does not contain the answer, state clearly that the information is not available.\\\",\n",
    "      \\\"Do not provide legal advice or personal opinions. Remain neutral and factual.\\\",\n",
    "      \\\"When referencing information, cite the relevant section, clause, or paragraph from the document whenever possible.\\\",\n",
    "      \\\"Use plain and concise language, but preserve legal precision.\\\",\n",
    "      \\\"If a question is ambiguous, ask for clarification rather than assuming.\\\"\"\"\"\n",
    "\n",
    "  model = \"gemini-2.5-flash-lite\"\n",
    "  contents = [\n",
    "    types.Content(\n",
    "      role=\"user\",\n",
    "      parts=[\n",
    "        document1,\n",
    "        text1\n",
    "      ]\n",
    "    )\n",
    "  ]\n",
    "\n",
    "  generate_content_config = types.GenerateContentConfig(\n",
    "    temperature = 1,\n",
    "    top_p = 0.95,\n",
    "    max_output_tokens = 65535,\n",
    "    safety_settings = [types.SafetySetting(\n",
    "      category=\"HARM_CATEGORY_HATE_SPEECH\",\n",
    "      threshold=\"OFF\"\n",
    "    ),types.SafetySetting(\n",
    "      category=\"HARM_CATEGORY_DANGEROUS_CONTENT\",\n",
    "      threshold=\"OFF\"\n",
    "    ),types.SafetySetting(\n",
    "      category=\"HARM_CATEGORY_SEXUALLY_EXPLICIT\",\n",
    "      threshold=\"OFF\"\n",
    "    ),types.SafetySetting(\n",
    "      category=\"HARM_CATEGORY_HARASSMENT\",\n",
    "      threshold=\"OFF\"\n",
    "    )],\n",
    "    system_instruction=[types.Part.from_text(text=si_text1)],\n",
    "    thinking_config=types.ThinkingConfig(\n",
    "      thinking_budget=0,\n",
    "    ),\n",
    "  )\n",
    "\n",
    "  for chunk in client.models.generate_content_stream(\n",
    "    model = model,\n",
    "    contents = contents,\n",
    "    config = generate_content_config,\n",
    "    ):\n",
    "    print(chunk.text, end=\"\")\n",
    "\n",
    "generate()"
   ]
  }
 ],
 "metadata": {
  "kernelspec": {
   "display_name": "venv",
   "language": "python",
   "name": "python3"
  },
  "language_info": {
   "codemirror_mode": {
    "name": "ipython",
    "version": 3
   },
   "file_extension": ".py",
   "mimetype": "text/x-python",
   "name": "python",
   "nbconvert_exporter": "python",
   "pygments_lexer": "ipython3",
   "version": "3.13.5"
  }
 },
 "nbformat": 4,
 "nbformat_minor": 5
}
