{
 "cells": [
  {
   "cell_type": "code",
   "execution_count": null,
   "id": "42ef14c7",
   "metadata": {},
   "outputs": [
    {
     "name": "stdout",
     "output_type": "stream",
     "text": [
      "Collecting google-cloud-documentai\n",
      "  Downloading google_cloud_documentai-3.6.0-py3-none-any.whl.metadata (9.7 kB)\n",
      "Requirement already satisfied: google-api-core!=2.0.*,!=2.1.*,!=2.10.*,!=2.2.*,!=2.3.*,!=2.4.*,!=2.5.*,!=2.6.*,!=2.7.*,!=2.8.*,!=2.9.*,<3.0.0,>=1.34.1 in c:\\users\\user\\onedrive\\documents\\genai-exchange\\backend\\venv\\lib\\site-packages (from google-api-core[grpc]!=2.0.*,!=2.1.*,!=2.10.*,!=2.2.*,!=2.3.*,!=2.4.*,!=2.5.*,!=2.6.*,!=2.7.*,!=2.8.*,!=2.9.*,<3.0.0,>=1.34.1->google-cloud-documentai) (2.25.1)\n",
      "Requirement already satisfied: google-auth!=2.24.0,!=2.25.0,<3.0.0,>=2.14.1 in c:\\users\\user\\onedrive\\documents\\genai-exchange\\backend\\venv\\lib\\site-packages (from google-cloud-documentai) (2.40.3)\n",
      "Requirement already satisfied: proto-plus<2.0.0,>=1.22.3 in c:\\users\\user\\onedrive\\documents\\genai-exchange\\backend\\venv\\lib\\site-packages (from google-cloud-documentai) (1.26.1)\n",
      "Requirement already satisfied: protobuf!=4.21.0,!=4.21.1,!=4.21.2,!=4.21.3,!=4.21.4,!=4.21.5,<7.0.0,>=3.20.2 in c:\\users\\user\\onedrive\\documents\\genai-exchange\\backend\\venv\\lib\\site-packages (from google-cloud-documentai) (5.29.5)\n",
      "Requirement already satisfied: googleapis-common-protos<2.0.0,>=1.56.2 in c:\\users\\user\\onedrive\\documents\\genai-exchange\\backend\\venv\\lib\\site-packages (from google-api-core!=2.0.*,!=2.1.*,!=2.10.*,!=2.2.*,!=2.3.*,!=2.4.*,!=2.5.*,!=2.6.*,!=2.7.*,!=2.8.*,!=2.9.*,<3.0.0,>=1.34.1->google-api-core[grpc]!=2.0.*,!=2.1.*,!=2.10.*,!=2.2.*,!=2.3.*,!=2.4.*,!=2.5.*,!=2.6.*,!=2.7.*,!=2.8.*,!=2.9.*,<3.0.0,>=1.34.1->google-cloud-documentai) (1.70.0)\n",
      "Requirement already satisfied: requests<3.0.0,>=2.18.0 in c:\\users\\user\\onedrive\\documents\\genai-exchange\\backend\\venv\\lib\\site-packages (from google-api-core!=2.0.*,!=2.1.*,!=2.10.*,!=2.2.*,!=2.3.*,!=2.4.*,!=2.5.*,!=2.6.*,!=2.7.*,!=2.8.*,!=2.9.*,<3.0.0,>=1.34.1->google-api-core[grpc]!=2.0.*,!=2.1.*,!=2.10.*,!=2.2.*,!=2.3.*,!=2.4.*,!=2.5.*,!=2.6.*,!=2.7.*,!=2.8.*,!=2.9.*,<3.0.0,>=1.34.1->google-cloud-documentai) (2.32.5)\n",
      "Requirement already satisfied: grpcio<2.0.0,>=1.33.2 in c:\\users\\user\\onedrive\\documents\\genai-exchange\\backend\\venv\\lib\\site-packages (from google-api-core[grpc]!=2.0.*,!=2.1.*,!=2.10.*,!=2.2.*,!=2.3.*,!=2.4.*,!=2.5.*,!=2.6.*,!=2.7.*,!=2.8.*,!=2.9.*,<3.0.0,>=1.34.1->google-cloud-documentai) (1.74.0)\n",
      "Requirement already satisfied: grpcio-status<2.0.0,>=1.33.2 in c:\\users\\user\\onedrive\\documents\\genai-exchange\\backend\\venv\\lib\\site-packages (from google-api-core[grpc]!=2.0.*,!=2.1.*,!=2.10.*,!=2.2.*,!=2.3.*,!=2.4.*,!=2.5.*,!=2.6.*,!=2.7.*,!=2.8.*,!=2.9.*,<3.0.0,>=1.34.1->google-cloud-documentai) (1.71.2)\n",
      "Requirement already satisfied: cachetools<6.0,>=2.0.0 in c:\\users\\user\\onedrive\\documents\\genai-exchange\\backend\\venv\\lib\\site-packages (from google-auth!=2.24.0,!=2.25.0,<3.0.0,>=2.14.1->google-cloud-documentai) (5.5.2)\n",
      "Requirement already satisfied: pyasn1-modules>=0.2.1 in c:\\users\\user\\onedrive\\documents\\genai-exchange\\backend\\venv\\lib\\site-packages (from google-auth!=2.24.0,!=2.25.0,<3.0.0,>=2.14.1->google-cloud-documentai) (0.4.2)\n",
      "Requirement already satisfied: rsa<5,>=3.1.4 in c:\\users\\user\\onedrive\\documents\\genai-exchange\\backend\\venv\\lib\\site-packages (from google-auth!=2.24.0,!=2.25.0,<3.0.0,>=2.14.1->google-cloud-documentai) (4.9.1)\n",
      "Requirement already satisfied: charset_normalizer<4,>=2 in c:\\users\\user\\onedrive\\documents\\genai-exchange\\backend\\venv\\lib\\site-packages (from requests<3.0.0,>=2.18.0->google-api-core!=2.0.*,!=2.1.*,!=2.10.*,!=2.2.*,!=2.3.*,!=2.4.*,!=2.5.*,!=2.6.*,!=2.7.*,!=2.8.*,!=2.9.*,<3.0.0,>=1.34.1->google-api-core[grpc]!=2.0.*,!=2.1.*,!=2.10.*,!=2.2.*,!=2.3.*,!=2.4.*,!=2.5.*,!=2.6.*,!=2.7.*,!=2.8.*,!=2.9.*,<3.0.0,>=1.34.1->google-cloud-documentai) (3.4.3)\n",
      "Requirement already satisfied: idna<4,>=2.5 in c:\\users\\user\\onedrive\\documents\\genai-exchange\\backend\\venv\\lib\\site-packages (from requests<3.0.0,>=2.18.0->google-api-core!=2.0.*,!=2.1.*,!=2.10.*,!=2.2.*,!=2.3.*,!=2.4.*,!=2.5.*,!=2.6.*,!=2.7.*,!=2.8.*,!=2.9.*,<3.0.0,>=1.34.1->google-api-core[grpc]!=2.0.*,!=2.1.*,!=2.10.*,!=2.2.*,!=2.3.*,!=2.4.*,!=2.5.*,!=2.6.*,!=2.7.*,!=2.8.*,!=2.9.*,<3.0.0,>=1.34.1->google-cloud-documentai) (3.10)\n",
      "Requirement already satisfied: urllib3<3,>=1.21.1 in c:\\users\\user\\onedrive\\documents\\genai-exchange\\backend\\venv\\lib\\site-packages (from requests<3.0.0,>=2.18.0->google-api-core!=2.0.*,!=2.1.*,!=2.10.*,!=2.2.*,!=2.3.*,!=2.4.*,!=2.5.*,!=2.6.*,!=2.7.*,!=2.8.*,!=2.9.*,<3.0.0,>=1.34.1->google-api-core[grpc]!=2.0.*,!=2.1.*,!=2.10.*,!=2.2.*,!=2.3.*,!=2.4.*,!=2.5.*,!=2.6.*,!=2.7.*,!=2.8.*,!=2.9.*,<3.0.0,>=1.34.1->google-cloud-documentai) (2.5.0)\n",
      "Requirement already satisfied: certifi>=2017.4.17 in c:\\users\\user\\onedrive\\documents\\genai-exchange\\backend\\venv\\lib\\site-packages (from requests<3.0.0,>=2.18.0->google-api-core!=2.0.*,!=2.1.*,!=2.10.*,!=2.2.*,!=2.3.*,!=2.4.*,!=2.5.*,!=2.6.*,!=2.7.*,!=2.8.*,!=2.9.*,<3.0.0,>=1.34.1->google-api-core[grpc]!=2.0.*,!=2.1.*,!=2.10.*,!=2.2.*,!=2.3.*,!=2.4.*,!=2.5.*,!=2.6.*,!=2.7.*,!=2.8.*,!=2.9.*,<3.0.0,>=1.34.1->google-cloud-documentai) (2025.8.3)\n",
      "Requirement already satisfied: pyasn1>=0.1.3 in c:\\users\\user\\onedrive\\documents\\genai-exchange\\backend\\venv\\lib\\site-packages (from rsa<5,>=3.1.4->google-auth!=2.24.0,!=2.25.0,<3.0.0,>=2.14.1->google-cloud-documentai) (0.6.1)\n",
      "Downloading google_cloud_documentai-3.6.0-py3-none-any.whl (300 kB)\n",
      "Installing collected packages: google-cloud-documentai\n",
      "Successfully installed google-cloud-documentai-3.6.0\n",
      "Requirement already satisfied: google-cloud-storage in c:\\users\\user\\onedrive\\documents\\genai-exchange\\backend\\venv\\lib\\site-packages (2.19.0)\n",
      "Requirement already satisfied: google-auth<3.0dev,>=2.26.1 in c:\\users\\user\\onedrive\\documents\\genai-exchange\\backend\\venv\\lib\\site-packages (from google-cloud-storage) (2.40.3)\n",
      "Requirement already satisfied: google-api-core<3.0.0dev,>=2.15.0 in c:\\users\\user\\onedrive\\documents\\genai-exchange\\backend\\venv\\lib\\site-packages (from google-cloud-storage) (2.25.1)\n",
      "Requirement already satisfied: google-cloud-core<3.0dev,>=2.3.0 in c:\\users\\user\\onedrive\\documents\\genai-exchange\\backend\\venv\\lib\\site-packages (from google-cloud-storage) (2.4.3)\n",
      "Requirement already satisfied: google-resumable-media>=2.7.2 in c:\\users\\user\\onedrive\\documents\\genai-exchange\\backend\\venv\\lib\\site-packages (from google-cloud-storage) (2.7.2)\n",
      "Requirement already satisfied: requests<3.0.0dev,>=2.18.0 in c:\\users\\user\\onedrive\\documents\\genai-exchange\\backend\\venv\\lib\\site-packages (from google-cloud-storage) (2.32.5)\n",
      "Requirement already satisfied: google-crc32c<2.0dev,>=1.0 in c:\\users\\user\\onedrive\\documents\\genai-exchange\\backend\\venv\\lib\\site-packages (from google-cloud-storage) (1.7.1)\n",
      "Requirement already satisfied: googleapis-common-protos<2.0.0,>=1.56.2 in c:\\users\\user\\onedrive\\documents\\genai-exchange\\backend\\venv\\lib\\site-packages (from google-api-core<3.0.0dev,>=2.15.0->google-cloud-storage) (1.70.0)\n",
      "Requirement already satisfied: protobuf!=3.20.0,!=3.20.1,!=4.21.0,!=4.21.1,!=4.21.2,!=4.21.3,!=4.21.4,!=4.21.5,<7.0.0,>=3.19.5 in c:\\users\\user\\onedrive\\documents\\genai-exchange\\backend\\venv\\lib\\site-packages (from google-api-core<3.0.0dev,>=2.15.0->google-cloud-storage) (5.29.5)\n",
      "Requirement already satisfied: proto-plus<2.0.0,>=1.22.3 in c:\\users\\user\\onedrive\\documents\\genai-exchange\\backend\\venv\\lib\\site-packages (from google-api-core<3.0.0dev,>=2.15.0->google-cloud-storage) (1.26.1)\n",
      "Requirement already satisfied: cachetools<6.0,>=2.0.0 in c:\\users\\user\\onedrive\\documents\\genai-exchange\\backend\\venv\\lib\\site-packages (from google-auth<3.0dev,>=2.26.1->google-cloud-storage) (5.5.2)\n",
      "Requirement already satisfied: pyasn1-modules>=0.2.1 in c:\\users\\user\\onedrive\\documents\\genai-exchange\\backend\\venv\\lib\\site-packages (from google-auth<3.0dev,>=2.26.1->google-cloud-storage) (0.4.2)\n",
      "Requirement already satisfied: rsa<5,>=3.1.4 in c:\\users\\user\\onedrive\\documents\\genai-exchange\\backend\\venv\\lib\\site-packages (from google-auth<3.0dev,>=2.26.1->google-cloud-storage) (4.9.1)\n",
      "Requirement already satisfied: charset_normalizer<4,>=2 in c:\\users\\user\\onedrive\\documents\\genai-exchange\\backend\\venv\\lib\\site-packages (from requests<3.0.0dev,>=2.18.0->google-cloud-storage) (3.4.3)\n",
      "Requirement already satisfied: idna<4,>=2.5 in c:\\users\\user\\onedrive\\documents\\genai-exchange\\backend\\venv\\lib\\site-packages (from requests<3.0.0dev,>=2.18.0->google-cloud-storage) (3.10)\n",
      "Requirement already satisfied: urllib3<3,>=1.21.1 in c:\\users\\user\\onedrive\\documents\\genai-exchange\\backend\\venv\\lib\\site-packages (from requests<3.0.0dev,>=2.18.0->google-cloud-storage) (2.5.0)\n",
      "Requirement already satisfied: certifi>=2017.4.17 in c:\\users\\user\\onedrive\\documents\\genai-exchange\\backend\\venv\\lib\\site-packages (from requests<3.0.0dev,>=2.18.0->google-cloud-storage) (2025.8.3)\n",
      "Requirement already satisfied: pyasn1>=0.1.3 in c:\\users\\user\\onedrive\\documents\\genai-exchange\\backend\\venv\\lib\\site-packages (from rsa<5,>=3.1.4->google-auth<3.0dev,>=2.26.1->google-cloud-storage) (0.6.1)\n"
     ]
    }
   ],
   "source": [
    "!pip install google-cloud-documentai\n",
    "!pip install google-cloud-storage"
   ]
  },
  {
   "cell_type": "code",
   "execution_count": 3,
   "id": "442e8a7d",
   "metadata": {},
   "outputs": [
    {
     "name": "stderr",
     "output_type": "stream",
     "text": [
      "c:\\Users\\user\\OneDrive\\Documents\\GenAI-exchange\\backend\\venv\\Lib\\site-packages\\google\\auth\\_default.py:76: UserWarning: Your application has authenticated using end user credentials from Google Cloud SDK without a quota project. You might receive a \"quota exceeded\" or \"API not enabled\" error. See the following page for troubleshooting: https://cloud.google.com/docs/authentication/adc-troubleshooting/user-creds. \n",
      "  warnings.warn(_CLOUD_SDK_CREDENTIALS_WARNING)\n"
     ]
    }
   ],
   "source": [
    "from google.cloud import documentai\n",
    "from google.cloud import storage\n",
    "import os\n",
    "from PIL import Image\n",
    "import matplotlib.pyplot as plt\n",
    "%matplotlib inline\n",
    "\n",
    "# Configure Document AI client\n",
    "project_id = \"sodium-coil-470706-f4\"  \n",
    "location = \"us\"  # Change if using different region\n",
    "processor_id = \"18d898182b219656\"\n",
    "\n",
    "# Initialize the client\n",
    "client_options = {\"api_endpoint\": f\"{location}-documentai.googleapis.com\"}\n",
    "client = documentai.DocumentProcessorServiceClient(client_options=client_options)"
   ]
  },
  {
   "cell_type": "code",
   "execution_count": 17,
   "id": "ecefb3e5",
   "metadata": {},
   "outputs": [],
   "source": [
    "def process_document(file_path):\n",
    "    \"\"\"Process a document using Document AI. Accepts local file path or gs:// URI.\"\"\"\n",
    "    name = f\"projects/{project_id}/locations/{location}/processors/{processor_id}\"\n",
    "\n",
    "    # Use GCS input config for Document AI\n",
    "    gcs_document = documentai.GcsDocument(\n",
    "        gcs_uri=file_path,\n",
    "        mime_type=\"application/pdf\"  # Update mime type if needed\n",
    "    )\n",
    "\n",
    "    request = documentai.ProcessRequest(\n",
    "        name=name,\n",
    "        gcs_document=gcs_document\n",
    "    )\n",
    "    result = client.process_document(request=request)\n",
    "    return result.document"
   ]
  },
  {
   "cell_type": "code",
   "execution_count": 7,
   "id": "7d8d0d93",
   "metadata": {},
   "outputs": [],
   "source": [
    "def display_results(document):\n",
    "    \"\"\"Display the extracted text and other information\"\"\"\n",
    "    print(\"Full text extracted:\")\n",
    "    print(\"=\"*50)\n",
    "    print(document.text)\n",
    "    \n",
    "    print(\"\\nForm fields found:\")\n",
    "    print(\"=\"*50)\n",
    "    for page in document.pages:\n",
    "        for field in page.form_fields:\n",
    "            name = get_text(field.field_name, document)\n",
    "            value = get_text(field.field_value, document)\n",
    "            print(f\"{name}: {value}\")\n",
    "            \n",
    "def get_text(doc_element, document):\n",
    "    \"\"\"Extract text from a document element\"\"\"\n",
    "    text = \"\"\n",
    "    for segment in doc_element.text_anchor.text_segments:\n",
    "        start_index = segment.start_index\n",
    "        end_index = segment.end_index\n",
    "        text += document.text[start_index:end_index]\n",
    "    return text"
   ]
  },
  {
   "cell_type": "code",
   "execution_count": 18,
   "id": "332840c5",
   "metadata": {},
   "outputs": [
    {
     "name": "stdout",
     "output_type": "stream",
     "text": [
      "Full text extracted:\n",
      "==================================================\n",
      "7636\n",
      "June 19, 2023\n",
      "State of Rhode Island\n",
      "Department of State | Business Services Division\n",
      "Gregg M. Amore, Secretary of State\n",
      "Dear Sir or Madam:\n",
      "The Division of Business Services of the Office of the Secretary of State has not received your Annual\n",
      "Report for the year 2023 that was due between February 1 and May 1, 2023.\n",
      "Pursuant to the provisions set forth in R.I.G.L. 7-1.2-1310 and 7-1.2-1414, the Certificate of\n",
      "Incorporation/Authority of the above-named entity will be revoked after 60 days from the date of this\n",
      "notice for failure to file the Annual Report.\n",
      "R.I.G.L. 7-1.2-1501(e) states that any corporation failing or refusing to file its annual report for any year\n",
      "within thirty (30) days after the time prescribed by law is subject to a penalty fee of $25.00. Due to the late\n",
      "filing, the fee for the 2023 annual report is now $75.00.\n",
      "The easiest way to complete this filing is to file online at https://www.sos.ri.gov/divisions/business-\n",
      "services and pay by credit card. The following unique Customer Identification Number (CID) and PIN are\n",
      "required to file online:\n",
      "CUSTOMER ID NUMBER (CID):\n",
      "PIN:\n",
      "You can also file an Annual Report form in person at 148 West River Street, Providence, RI 02904 or by\n",
      "mail with a check in the amount of $75.00 made payable to the RI Department of State. The Annual\n",
      "Report form 630 is available for download at the web address listed above. If you have any questions,\n",
      "please contact us at corporations@sos.ri.gov or (401) 222-3040.\n",
      "Sincerely.\n",
      "Greys\n",
      "Gregg M. Amore\n",
      "Secretary of State\n",
      "M Amore\n",
      "\n",
      "\n",
      "Form fields found:\n",
      "==================================================\n",
      "An error occurred: Unknown field for Document: text_quality_scores\n"
     ]
    }
   ],
   "source": [
    "# Test the implementation\n",
    "test_file_path = r\"gs://legal-doc-bucket1/generative-ai_pdf_certificate_of_incoporation.pdf\"  # Update with your test file path\n",
    "\n",
    "try:\n",
    "    # Process the document\n",
    "    processed_doc = process_document(test_file_path)\n",
    "    \n",
    "    # Display results\n",
    "    display_results(processed_doc)\n",
    "    # Print confidence score\n",
    "    print(\"\\nDocument confidence score:\", processed_doc.text_quality_scores[0].score)\n",
    "    \n",
    "except Exception as e:\n",
    "    print(f\"An error occurred: {str(e)}\")"
   ]
  },
  {
   "cell_type": "code",
   "execution_count": null,
   "id": "baf5dacd",
   "metadata": {},
   "outputs": [],
   "source": []
  }
 ],
 "metadata": {
  "kernelspec": {
   "display_name": "venv",
   "language": "python",
   "name": "python3"
  },
  "language_info": {
   "codemirror_mode": {
    "name": "ipython",
    "version": 3
   },
   "file_extension": ".py",
   "mimetype": "text/x-python",
   "name": "python",
   "nbconvert_exporter": "python",
   "pygments_lexer": "ipython3",
   "version": "3.13.5"
  }
 },
 "nbformat": 4,
 "nbformat_minor": 5
}
