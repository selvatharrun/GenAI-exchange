{
 "cells": [
  {
   "cell_type": "code",
   "execution_count": null,
   "id": "18288a6b",
   "metadata": {
    "vscode": {
     "languageId": "plaintext"
    }
   },
   "outputs": [],
   "source": [
    "gcloud run deploy legal-demystifier-mcp-server \\\n",
    "    --no-allow-unauthenticated \\\n",
    "    --region=asia-south1 \\\n",
    "    --source=. \\\n",
    "    --labels=dev-tutorial=codelab-mcp\n"
   ]
  },
  {
   "cell_type": "code",
   "execution_count": null,
   "id": "6f793637",
   "metadata": {
    "vscode": {
     "languageId": "plaintext"
    }
   },
   "outputs": [],
   "source": [
    "gcloud config set project sodium-coil-470706-f4"
   ]
  }
 ],
 "metadata": {
  "language_info": {
   "name": "python"
  }
 },
 "nbformat": 4,
 "nbformat_minor": 5
}
